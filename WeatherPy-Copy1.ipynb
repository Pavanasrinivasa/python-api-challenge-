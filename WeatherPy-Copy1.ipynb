{
 "cells": [
  {
   "cell_type": "markdown",
   "metadata": {},
   "source": [
    "# WeatherPy\n",
    "----\n",
    "\n",
    "#### Note\n",
    "* Instructions have been included for each segment. You do not have to follow them exactly, but they are included to help you think through the steps."
   ]
  },
  {
   "cell_type": "code",
   "execution_count": 1,
   "metadata": {
    "scrolled": false
   },
   "outputs": [],
   "source": [
    "# Dependencies and Setup\n",
    "import os\n",
    "import json\n",
    "import random\n",
    "import matplotlib.pyplot as plt\n",
    "import pandas as pd\n",
    "import numpy as np\n",
    "import requests\n",
    "import time\n",
    "from scipy.stats import linregress\n",
    "from ratelimit import limits\n",
    "# Import API key\n",
    "from api_keys import weather_api_key\n",
    "from api_keys import g_key\n",
    "\n",
    "# Incorporated citipy to determine city based on latitude and longitude\n",
    "from citipy import citipy\n",
    "\n",
    "# Output File (CSV)\n",
    "output_data_file = \"output_data/cities.csv\"\n",
    "\n",
    "# Range of latitudes and longitudes\n",
    "lat_range = (-90, 90)\n",
    "lng_range = (-180, 180)\n"
   ]
  },
  {
   "cell_type": "markdown",
   "metadata": {},
   "source": [
    "## Generate Cities List"
   ]
  },
  {
   "cell_type": "code",
   "execution_count": 3,
   "metadata": {},
   "outputs": [
    {
     "data": {
      "text/plain": [
       "609"
      ]
     },
     "execution_count": 3,
     "metadata": {},
     "output_type": "execute_result"
    }
   ],
   "source": [
    "# List for holding lat_lngs and cities\n",
    "lat_lngs = []\n",
    "cities = []\n",
    "\n",
    "# Create a set of random lat and lng combinations\n",
    "lats = np.random.uniform(low=-90.000, high=90.000, size=1500)\n",
    "lngs = np.random.uniform(low=-180.000, high=180.000, size=1500)\n",
    "lat_lngs = zip(lats, lngs)\n",
    "\n",
    "# Identify nearest city for each lat, lng combination\n",
    "for lat_lng in lat_lngs:\n",
    "    city = citipy.nearest_city(lat_lng[0], lat_lng[1]).city_name\n",
    "    \n",
    "    # If the city is unique, then add it to a our cities list\n",
    "    if city not in cities:\n",
    "        cities.append(city)\n",
    "\n",
    "# Print the city count to confirm sufficient count\n",
    "len(cities)"
   ]
  },
  {
   "cell_type": "markdown",
   "metadata": {},
   "source": [
    "### Perform API Calls\n",
    "* Perform a weather check on each city using a series of successive API calls.\n",
    "* Include a print log of each city as it'sbeing processed (with the city number and city name).\n"
   ]
  },
  {
   "cell_type": "code",
   "execution_count": 4,
   "metadata": {
    "scrolled": true
   },
   "outputs": [
    {
     "name": "stdout",
     "output_type": "stream",
     "text": [
      "Beginning Data Retrieval\n",
      "-----------------------------\n",
      "Processing Record 0  of Set 1 | ostrovnoy.\n",
      "Processing Record 1  of Set 1 | olafsvik.\n",
      "City not found...skipping.\n",
      "Processing Record 2  of Set 1 | yellowknife.\n",
      "Processing Record 3  of Set 1 | new norfolk.\n",
      "Processing Record 4  of Set 1 | tumannyy.\n",
      "City not found...skipping.\n",
      "Processing Record 5  of Set 1 | tura.\n",
      "Processing Record 6  of Set 1 | taolanaro.\n",
      "City not found...skipping.\n",
      "Processing Record 7  of Set 1 | punta arenas.\n",
      "Processing Record 8  of Set 1 | rikitea.\n",
      "Processing Record 9  of Set 1 | bluff.\n",
      "Processing Record 10  of Set 1 | aksarka.\n",
      "Processing Record 11  of Set 1 | nanortalik.\n",
      "Processing Record 12  of Set 1 | poya.\n",
      "Processing Record 13  of Set 1 | stephenville.\n",
      "Processing Record 14  of Set 1 | ilulissat.\n",
      "Processing Record 15  of Set 1 | tuktoyaktuk.\n",
      "Processing Record 16  of Set 1 | vaini.\n",
      "Processing Record 17  of Set 1 | torbay.\n",
      "Processing Record 18  of Set 1 | zhigansk.\n",
      "Processing Record 19  of Set 1 | tiksi.\n",
      "Processing Record 20  of Set 1 | upernavik.\n",
      "Processing Record 21  of Set 1 | hami.\n",
      "Processing Record 22  of Set 1 | tromso.\n",
      "Processing Record 23  of Set 1 | mayo.\n",
      "Processing Record 24  of Set 1 | atuona.\n",
      "Processing Record 25  of Set 1 | mataura.\n",
      "Processing Record 26  of Set 1 | puerto ayora.\n",
      "Processing Record 27  of Set 1 | tunduru.\n",
      "City not found...skipping.\n",
      "Processing Record 28  of Set 1 | ushuaia.\n",
      "Processing Record 29  of Set 1 | vardo.\n",
      "Processing Record 30  of Set 1 | chokurdakh.\n",
      "Processing Record 31  of Set 1 | saint-philippe.\n",
      "Processing Record 32  of Set 1 | bowen.\n",
      "Processing Record 33  of Set 1 | iqaluit.\n",
      "Processing Record 34  of Set 1 | barentsburg.\n",
      "City not found...skipping.\n",
      "Processing Record 35  of Set 1 | hohhot.\n",
      "Processing Record 36  of Set 1 | marsabit.\n",
      "Processing Record 37  of Set 1 | rolim de moura.\n",
      "City not found...skipping.\n",
      "Processing Record 38  of Set 1 | nizhneyansk.\n",
      "City not found...skipping.\n",
      "Processing Record 39  of Set 1 | port blair.\n",
      "Processing Record 40  of Set 1 | fare.\n",
      "Processing Record 41  of Set 1 | busselton.\n",
      "Processing Record 42  of Set 1 | mar del plata.\n",
      "Processing Record 43  of Set 1 | bengkulu.\n",
      "City not found...skipping.\n",
      "Processing Record 44  of Set 1 | san lawrenz.\n",
      "Processing Record 45  of Set 1 | pasinler.\n",
      "Processing Record 46  of Set 1 | aykhal.\n",
      "Processing Record 47  of Set 1 | cabo san lucas.\n",
      "Processing Record 48  of Set 1 | porto novo.\n",
      "Processing Record 49  of Set 1 | palabuhanratu.\n",
      "City not found...skipping.\n",
      "Processing Record 0  of Set 2 | monrovia.\n",
      "Processing Record 1  of Set 2 | kodiak.\n",
      "Processing Record 2  of Set 2 | victoria.\n",
      "Processing Record 3  of Set 2 | hilo.\n",
      "Processing Record 4  of Set 2 | constitucion.\n",
      "Processing Record 5  of Set 2 | chuy.\n",
      "Processing Record 6  of Set 2 | dingle.\n",
      "Processing Record 7  of Set 2 | kieta.\n",
      "Processing Record 8  of Set 2 | beira.\n",
      "Processing Record 9  of Set 2 | wuan.\n",
      "Processing Record 10  of Set 2 | butaritari.\n",
      "Processing Record 11  of Set 2 | tyazhinskiy.\n",
      "Processing Record 12  of Set 2 | kapaa.\n",
      "Processing Record 13  of Set 2 | samarai.\n",
      "Processing Record 14  of Set 2 | albany.\n",
      "Processing Record 15  of Set 2 | najran.\n",
      "Processing Record 16  of Set 2 | puerto escondido.\n",
      "Processing Record 17  of Set 2 | attawapiskat.\n",
      "City not found...skipping.\n",
      "Processing Record 18  of Set 2 | mantua.\n",
      "Processing Record 19  of Set 2 | hermanus.\n",
      "Processing Record 20  of Set 2 | ribeira grande.\n",
      "Processing Record 21  of Set 2 | ouahigouya.\n",
      "Processing Record 22  of Set 2 | faanui.\n",
      "Processing Record 23  of Set 2 | sitka.\n",
      "Processing Record 24  of Set 2 | nortelandia.\n",
      "Processing Record 25  of Set 2 | krasnoselkup.\n",
      "City not found...skipping.\n",
      "Processing Record 26  of Set 2 | castro.\n",
      "Processing Record 27  of Set 2 | lokosovo.\n",
      "Processing Record 28  of Set 2 | honiara.\n",
      "Processing Record 29  of Set 2 | altay.\n",
      "Processing Record 30  of Set 2 | hobart.\n",
      "Processing Record 31  of Set 2 | padang.\n",
      "Processing Record 32  of Set 2 | harper.\n",
      "Processing Record 33  of Set 2 | pevek.\n",
      "Processing Record 34  of Set 2 | vilyuysk.\n",
      "Processing Record 35  of Set 2 | gamba.\n",
      "Processing Record 36  of Set 2 | tayoltita.\n",
      "Processing Record 37  of Set 2 | cape town.\n",
      "Processing Record 38  of Set 2 | dikson.\n",
      "Processing Record 39  of Set 2 | longyearbyen.\n",
      "Processing Record 40  of Set 2 | camabatela.\n",
      "Processing Record 41  of Set 2 | qaanaaq.\n",
      "Processing Record 42  of Set 2 | quatre cocos.\n",
      "Processing Record 43  of Set 2 | zima.\n",
      "Processing Record 44  of Set 2 | strzelce opolskie.\n",
      "Processing Record 45  of Set 2 | san patricio.\n",
      "Processing Record 46  of Set 2 | caravelas.\n",
      "Processing Record 47  of Set 2 | nemuro.\n",
      "Processing Record 48  of Set 2 | galesong.\n",
      "Processing Record 49  of Set 2 | mahebourg.\n",
      "Processing Record 0  of Set 3 | port-gentil.\n",
      "Processing Record 1  of Set 3 | flinders.\n",
      "Processing Record 2  of Set 3 | barrow.\n",
      "Processing Record 3  of Set 3 | alofi.\n",
      "Processing Record 4  of Set 3 | vila.\n",
      "Processing Record 5  of Set 3 | tarko-sale.\n",
      "Processing Record 6  of Set 3 | sao joao do piaui.\n",
      "Processing Record 7  of Set 3 | kilindoni.\n",
      "Processing Record 8  of Set 3 | lakselv.\n",
      "Processing Record 9  of Set 3 | sao filipe.\n",
      "Processing Record 10  of Set 3 | sotouboua.\n",
      "Processing Record 11  of Set 3 | saskylakh.\n",
      "Processing Record 12  of Set 3 | saldanha.\n",
      "Processing Record 13  of Set 3 | chistogorskiy.\n",
      "Processing Record 14  of Set 3 | berlevag.\n",
      "Processing Record 15  of Set 3 | jacmel.\n",
      "Processing Record 16  of Set 3 | hernani.\n",
      "Processing Record 17  of Set 3 | beringovskiy.\n",
      "Processing Record 18  of Set 3 | yelkhovka.\n",
      "Processing Record 19  of Set 3 | aklavik.\n",
      "Processing Record 20  of Set 3 | sur.\n",
      "Processing Record 21  of Set 3 | tolaga bay.\n",
      "Processing Record 22  of Set 3 | kamenskoye.\n",
      "City not found...skipping.\n",
      "Processing Record 23  of Set 3 | cherskiy.\n",
      "Processing Record 24  of Set 3 | itarema.\n",
      "Processing Record 25  of Set 3 | jamestown.\n",
      "Processing Record 26  of Set 3 | bredasdorp.\n",
      "Processing Record 27  of Set 3 | khatanga.\n",
      "Processing Record 28  of Set 3 | okha.\n",
      "Processing Record 29  of Set 3 | chornobay.\n",
      "Processing Record 30  of Set 3 | saleaula.\n",
      "City not found...skipping.\n",
      "Processing Record 31  of Set 3 | lasa.\n",
      "Processing Record 32  of Set 3 | negara.\n",
      "Processing Record 33  of Set 3 | illoqqortoormiut.\n",
      "City not found...skipping.\n",
      "Processing Record 34  of Set 3 | kaitangata.\n",
      "Processing Record 35  of Set 3 | camacupa.\n",
      "Processing Record 36  of Set 3 | palu.\n",
      "Processing Record 37  of Set 3 | torrington.\n",
      "Processing Record 38  of Set 3 | manacapuru.\n",
      "Processing Record 39  of Set 3 | tasiilaq.\n",
      "Processing Record 40  of Set 3 | sao joao da barra.\n",
      "Processing Record 41  of Set 3 | adrar.\n",
      "Processing Record 42  of Set 3 | felidhoo.\n",
      "City not found...skipping.\n",
      "Processing Record 43  of Set 3 | hendijan.\n",
      "City not found...skipping.\n",
      "Processing Record 44  of Set 3 | jacareacanga.\n",
      "Processing Record 45  of Set 3 | avarua.\n",
      "Processing Record 46  of Set 3 | fairbanks.\n",
      "Processing Record 47  of Set 3 | asosa.\n",
      "Processing Record 48  of Set 3 | palmer.\n",
      "Processing Record 49  of Set 3 | mayumba.\n",
      "Processing Record 0  of Set 4 | zhezkazgan.\n",
      "Processing Record 1  of Set 4 | etchoropo.\n",
      "Processing Record 2  of Set 4 | east london.\n",
      "Processing Record 3  of Set 4 | manchester.\n",
      "Processing Record 4  of Set 4 | leningradskiy.\n",
      "Processing Record 5  of Set 4 | punta umbria.\n",
      "Processing Record 6  of Set 4 | praia.\n",
      "Processing Record 7  of Set 4 | luderitz.\n",
      "Processing Record 8  of Set 4 | bonavista.\n",
      "Processing Record 9  of Set 4 | inderborskiy.\n",
      "City not found...skipping.\n",
      "Processing Record 10  of Set 4 | houma.\n",
      "Processing Record 11  of Set 4 | tiarei.\n",
      "Processing Record 12  of Set 4 | trincomalee.\n",
      "Processing Record 13  of Set 4 | esperance.\n",
      "Processing Record 14  of Set 4 | safaqis.\n",
      "City not found...skipping.\n",
      "Processing Record 15  of Set 4 | ust-maya.\n",
      "Processing Record 16  of Set 4 | saint george.\n",
      "Processing Record 17  of Set 4 | gigmoto.\n",
      "Processing Record 18  of Set 4 | rockland.\n",
      "Processing Record 19  of Set 4 | westport.\n",
      "Processing Record 20  of Set 4 | ust-kuyga.\n",
      "Processing Record 21  of Set 4 | mys shmidta.\n",
      "City not found...skipping.\n",
      "Processing Record 22  of Set 4 | zhangjiakou.\n",
      "Processing Record 23  of Set 4 | thompson.\n",
      "Processing Record 24  of Set 4 | buariki.\n",
      "City not found...skipping.\n",
      "Processing Record 25  of Set 4 | abonnema.\n",
      "Processing Record 26  of Set 4 | sobolevo.\n",
      "Processing Record 27  of Set 4 | nizhniy kuranakh.\n"
     ]
    },
    {
     "name": "stdout",
     "output_type": "stream",
     "text": [
      "Processing Record 28  of Set 4 | kidal.\n",
      "Processing Record 29  of Set 4 | elko.\n",
      "Processing Record 30  of Set 4 | amderma.\n",
      "City not found...skipping.\n",
      "Processing Record 31  of Set 4 | itamaraju.\n",
      "Processing Record 32  of Set 4 | northam.\n",
      "Processing Record 33  of Set 4 | athabasca.\n",
      "Processing Record 34  of Set 4 | kavaratti.\n",
      "Processing Record 35  of Set 4 | talnakh.\n",
      "Processing Record 36  of Set 4 | emerald.\n",
      "Processing Record 37  of Set 4 | san cristobal.\n",
      "Processing Record 38  of Set 4 | kimbe.\n",
      "Processing Record 39  of Set 4 | savannah bight.\n",
      "Processing Record 40  of Set 4 | mahadday weyne.\n",
      "City not found...skipping.\n",
      "Processing Record 41  of Set 4 | hihifo.\n",
      "City not found...skipping.\n",
      "Processing Record 42  of Set 4 | mizdah.\n",
      "Processing Record 43  of Set 4 | yerbogachen.\n",
      "Processing Record 44  of Set 4 | toliary.\n",
      "City not found...skipping.\n",
      "Processing Record 45  of Set 4 | melfort.\n",
      "Processing Record 46  of Set 4 | milkovo.\n",
      "Processing Record 47  of Set 4 | big bend.\n",
      "Processing Record 48  of Set 4 | peleduy.\n",
      "Processing Record 49  of Set 4 | katsuura.\n",
      "Processing Record 0  of Set 5 | taltal.\n",
      "Processing Record 1  of Set 5 | samalaeulu.\n",
      "City not found...skipping.\n",
      "Processing Record 2  of Set 5 | adeje.\n",
      "Processing Record 3  of Set 5 | sentyabrskiy.\n",
      "City not found...skipping.\n",
      "Processing Record 4  of Set 5 | kampot.\n",
      "Processing Record 5  of Set 5 | la ronge.\n",
      "Processing Record 6  of Set 5 | kavieng.\n",
      "Processing Record 7  of Set 5 | wai.\n",
      "Processing Record 8  of Set 5 | puerto leguizamo.\n",
      "Processing Record 9  of Set 5 | sape.\n",
      "Processing Record 10  of Set 5 | port alfred.\n",
      "Processing Record 11  of Set 5 | chicama.\n",
      "Processing Record 12  of Set 5 | grand river south east.\n",
      "City not found...skipping.\n",
      "Processing Record 13  of Set 5 | mount gambier.\n",
      "Processing Record 14  of Set 5 | college.\n",
      "Processing Record 15  of Set 5 | esil.\n",
      "Processing Record 16  of Set 5 | broome.\n",
      "Processing Record 17  of Set 5 | lata.\n",
      "Processing Record 18  of Set 5 | eyl.\n",
      "Processing Record 19  of Set 5 | jutai.\n",
      "Processing Record 20  of Set 5 | pareora.\n",
      "Processing Record 21  of Set 5 | grand gaube.\n",
      "Processing Record 22  of Set 5 | sayyan.\n",
      "Processing Record 23  of Set 5 | avera.\n",
      "Processing Record 24  of Set 5 | qaqortoq.\n",
      "Processing Record 25  of Set 5 | lebu.\n",
      "Processing Record 26  of Set 5 | do gonbadan.\n",
      "Processing Record 27  of Set 5 | kudahuvadhoo.\n",
      "Processing Record 28  of Set 5 | belawan.\n",
      "Processing Record 29  of Set 5 | caico.\n",
      "Processing Record 30  of Set 5 | maceio.\n",
      "Processing Record 31  of Set 5 | georgetown.\n",
      "Processing Record 32  of Set 5 | stoyba.\n",
      "City not found...skipping.\n",
      "Processing Record 33  of Set 5 | vila franca do campo.\n",
      "Processing Record 34  of Set 5 | tateyama.\n",
      "Processing Record 35  of Set 5 | geraldton.\n",
      "Processing Record 36  of Set 5 | oistins.\n",
      "Processing Record 37  of Set 5 | russell.\n",
      "Processing Record 38  of Set 5 | capaci.\n",
      "Processing Record 39  of Set 5 | sabha.\n",
      "Processing Record 40  of Set 5 | samana.\n",
      "Processing Record 41  of Set 5 | marsh harbour.\n",
      "Processing Record 42  of Set 5 | bambous virieux.\n",
      "Processing Record 43  of Set 5 | belushya guba.\n",
      "City not found...skipping.\n",
      "Processing Record 44  of Set 5 | brandon.\n",
      "Processing Record 45  of Set 5 | norman wells.\n",
      "Processing Record 46  of Set 5 | bensonville.\n",
      "Processing Record 47  of Set 5 | korcula.\n",
      "Processing Record 48  of Set 5 | mariental.\n",
      "Processing Record 49  of Set 5 | ucluelet.\n",
      "Processing Record 0  of Set 6 | namatanai.\n",
      "Processing Record 1  of Set 6 | agadir.\n",
      "Processing Record 2  of Set 6 | sola.\n",
      "Processing Record 3  of Set 6 | nikolskoye.\n",
      "Processing Record 4  of Set 6 | vaitupu.\n",
      "City not found...skipping.\n",
      "Processing Record 5  of Set 6 | deputatskiy.\n",
      "Processing Record 6  of Set 6 | pirsagi.\n",
      "City not found...skipping.\n",
      "Processing Record 7  of Set 6 | chapais.\n",
      "Processing Record 8  of Set 6 | codrington.\n",
      "Processing Record 9  of Set 6 | port-cartier.\n",
      "Processing Record 10  of Set 6 | pangnirtung.\n",
      "Processing Record 11  of Set 6 | ancud.\n",
      "Processing Record 12  of Set 6 | barroualie.\n",
      "City not found...skipping.\n",
      "Processing Record 13  of Set 6 | tigil.\n",
      "Processing Record 14  of Set 6 | bougouni.\n",
      "Processing Record 15  of Set 6 | chabahar.\n",
      "Processing Record 16  of Set 6 | batemans bay.\n",
      "Processing Record 17  of Set 6 | hambantota.\n",
      "Processing Record 18  of Set 6 | san quintin.\n",
      "Processing Record 19  of Set 6 | oranjemund.\n",
      "Processing Record 20  of Set 6 | laredo.\n",
      "Processing Record 21  of Set 6 | fortuna.\n",
      "Processing Record 22  of Set 6 | safaga.\n",
      "City not found...skipping.\n",
      "Processing Record 23  of Set 6 | fort nelson.\n",
      "Processing Record 24  of Set 6 | samusu.\n",
      "City not found...skipping.\n",
      "Processing Record 25  of Set 6 | bolungarvik.\n",
      "City not found...skipping.\n",
      "Processing Record 26  of Set 6 | dolbeau.\n",
      "City not found...skipping.\n",
      "Processing Record 27  of Set 6 | comodoro rivadavia.\n",
      "Processing Record 28  of Set 6 | touros.\n",
      "Processing Record 29  of Set 6 | brae.\n",
      "Processing Record 30  of Set 6 | gisborne.\n",
      "Processing Record 31  of Set 6 | komsomolskiy.\n",
      "Processing Record 32  of Set 6 | oktyabrskiy.\n",
      "Processing Record 33  of Set 6 | rocha.\n",
      "Processing Record 34  of Set 6 | camiri.\n",
      "Processing Record 35  of Set 6 | riachao das neves.\n",
      "Processing Record 36  of Set 6 | san vicente de canete.\n",
      "Processing Record 37  of Set 6 | tsihombe.\n",
      "City not found...skipping.\n",
      "Processing Record 38  of Set 6 | marrakesh.\n",
      "Processing Record 39  of Set 6 | galveston.\n",
      "Processing Record 40  of Set 6 | astaneh-ye ashrafiyeh.\n",
      "Processing Record 41  of Set 6 | asau.\n",
      "City not found...skipping.\n",
      "Processing Record 42  of Set 6 | clyde river.\n",
      "Processing Record 43  of Set 6 | venado tuerto.\n",
      "Processing Record 44  of Set 6 | kuryk.\n",
      "Processing Record 45  of Set 6 | beloha.\n",
      "Processing Record 46  of Set 6 | lompoc.\n",
      "Processing Record 47  of Set 6 | kristiinankaupunki.\n",
      "City not found...skipping.\n",
      "Processing Record 48  of Set 6 | wanning.\n",
      "Processing Record 49  of Set 6 | choya.\n",
      "Processing Record 0  of Set 7 | vadso.\n",
      "Processing Record 1  of Set 7 | ossora.\n",
      "Processing Record 2  of Set 7 | bayan.\n",
      "Processing Record 3  of Set 7 | karratha.\n",
      "Processing Record 4  of Set 7 | half moon bay.\n",
      "Processing Record 5  of Set 7 | nome.\n",
      "Processing Record 6  of Set 7 | airai.\n",
      "Processing Record 7  of Set 7 | capao da canoa.\n",
      "Processing Record 8  of Set 7 | yerofey pavlovich.\n",
      "Processing Record 9  of Set 7 | hithadhoo.\n",
      "Processing Record 10  of Set 7 | pingzhuang.\n",
      "City not found...skipping.\n",
      "Processing Record 11  of Set 7 | dudinka.\n",
      "Processing Record 12  of Set 7 | rio grande city.\n",
      "Processing Record 13  of Set 7 | muisne.\n",
      "Processing Record 14  of Set 7 | aksu.\n",
      "Processing Record 15  of Set 7 | bethel.\n",
      "Processing Record 16  of Set 7 | waddan.\n",
      "Processing Record 17  of Set 7 | minot.\n",
      "Processing Record 18  of Set 7 | marsa matruh.\n",
      "Processing Record 19  of Set 7 | marcona.\n",
      "City not found...skipping.\n",
      "Processing Record 20  of Set 7 | ferrol.\n",
      "Processing Record 21  of Set 7 | hanyang.\n",
      "Processing Record 22  of Set 7 | cukai.\n",
      "Processing Record 23  of Set 7 | ayios ioannis.\n",
      "Processing Record 24  of Set 7 | uinskoye.\n",
      "Processing Record 25  of Set 7 | chernyshevskiy.\n",
      "Processing Record 26  of Set 7 | phitsanulok.\n",
      "Processing Record 27  of Set 7 | port hedland.\n",
      "Processing Record 28  of Set 7 | ixtapa.\n",
      "Processing Record 29  of Set 7 | robertsport.\n",
      "Processing Record 30  of Set 7 | souillac.\n",
      "Processing Record 31  of Set 7 | novosineglazovskiy.\n",
      "Processing Record 32  of Set 7 | usinsk.\n",
      "Processing Record 33  of Set 7 | saint-denis.\n",
      "Processing Record 34  of Set 7 | la asuncion.\n",
      "Processing Record 35  of Set 7 | curup.\n",
      "Processing Record 36  of Set 7 | chifeng.\n",
      "Processing Record 37  of Set 7 | odweyne.\n",
      "City not found...skipping.\n",
      "Processing Record 38  of Set 7 | bonthe.\n",
      "Processing Record 39  of Set 7 | camana.\n",
      "City not found...skipping.\n",
      "Processing Record 40  of Set 7 | lushoto.\n",
      "Processing Record 41  of Set 7 | sokolovo.\n",
      "Processing Record 42  of Set 7 | sinnamary.\n",
      "Processing Record 43  of Set 7 | hovd.\n",
      "Processing Record 44  of Set 7 | burica.\n",
      "City not found...skipping.\n",
      "Processing Record 45  of Set 7 | kruisfontein.\n",
      "Processing Record 46  of Set 7 | rawson.\n",
      "Processing Record 47  of Set 7 | muros.\n",
      "Processing Record 48  of Set 7 | abu kamal.\n",
      "Processing Record 49  of Set 7 | vanavara.\n",
      "Processing Record 0  of Set 8 | hamilton.\n",
      "Processing Record 1  of Set 8 | revelstoke.\n"
     ]
    },
    {
     "name": "stdout",
     "output_type": "stream",
     "text": [
      "Processing Record 2  of Set 8 | tuatapere.\n",
      "Processing Record 3  of Set 8 | kokopo.\n",
      "Processing Record 4  of Set 8 | yumen.\n",
      "Processing Record 5  of Set 8 | portland.\n",
      "Processing Record 6  of Set 8 | port macquarie.\n",
      "Processing Record 7  of Set 8 | port shepstone.\n",
      "Processing Record 8  of Set 8 | lavrentiya.\n",
      "Processing Record 9  of Set 8 | champerico.\n",
      "Processing Record 10  of Set 8 | ginda.\n",
      "Processing Record 11  of Set 8 | krutinka.\n",
      "Processing Record 12  of Set 8 | nouadhibou.\n",
      "Processing Record 13  of Set 8 | wairoa.\n",
      "Processing Record 14  of Set 8 | coihueco.\n",
      "Processing Record 15  of Set 8 | nuuk.\n",
      "Processing Record 16  of Set 8 | urubamba.\n",
      "Processing Record 17  of Set 8 | coquimbo.\n",
      "Processing Record 18  of Set 8 | huilong.\n",
      "Processing Record 19  of Set 8 | san pedro.\n",
      "Processing Record 20  of Set 8 | santa rosalia.\n",
      "Processing Record 21  of Set 8 | haines junction.\n",
      "Processing Record 22  of Set 8 | marshall.\n",
      "Processing Record 23  of Set 8 | chagda.\n",
      "City not found...skipping.\n",
      "Processing Record 24  of Set 8 | lakes entrance.\n",
      "Processing Record 25  of Set 8 | guerrero negro.\n",
      "Processing Record 26  of Set 8 | muli.\n",
      "Processing Record 27  of Set 8 | necochea.\n",
      "Processing Record 28  of Set 8 | kerema.\n",
      "Processing Record 29  of Set 8 | vagur.\n",
      "Processing Record 30  of Set 8 | cidreira.\n",
      "Processing Record 31  of Set 8 | linguere.\n",
      "City not found...skipping.\n",
      "Processing Record 32  of Set 8 | skibbereen.\n",
      "Processing Record 33  of Set 8 | aanekoski.\n",
      "Processing Record 34  of Set 8 | itoman.\n",
      "Processing Record 35  of Set 8 | kamenka.\n",
      "Processing Record 36  of Set 8 | san rafael.\n",
      "Processing Record 37  of Set 8 | mumford.\n",
      "Processing Record 38  of Set 8 | batagay.\n",
      "Processing Record 39  of Set 8 | ternate.\n",
      "Processing Record 40  of Set 8 | nishihara.\n",
      "Processing Record 41  of Set 8 | karatsu.\n",
      "Processing Record 42  of Set 8 | kamiiso.\n",
      "Processing Record 43  of Set 8 | arraial do cabo.\n",
      "Processing Record 44  of Set 8 | pathein.\n",
      "Processing Record 45  of Set 8 | yulara.\n",
      "Processing Record 46  of Set 8 | paamiut.\n",
      "Processing Record 47  of Set 8 | yoichi.\n",
      "Processing Record 48  of Set 8 | carnarvon.\n",
      "Processing Record 49  of Set 8 | siddipet.\n",
      "Processing Record 0  of Set 9 | nyzhni sirohozy.\n",
      "Processing Record 1  of Set 9 | margate.\n",
      "Processing Record 2  of Set 9 | koregaon.\n",
      "Processing Record 3  of Set 9 | anadyr.\n",
      "Processing Record 4  of Set 9 | hofn.\n",
      "Processing Record 5  of Set 9 | katherine.\n",
      "Processing Record 6  of Set 9 | linfen.\n",
      "Processing Record 7  of Set 9 | eirunepe.\n",
      "Processing Record 8  of Set 9 | daru.\n",
      "Processing Record 9  of Set 9 | lakhipur.\n",
      "Processing Record 10  of Set 9 | massaguet.\n",
      "Processing Record 11  of Set 9 | svetlogorsk.\n",
      "Processing Record 12  of Set 9 | maragogi.\n",
      "Processing Record 13  of Set 9 | tabas.\n",
      "Processing Record 14  of Set 9 | longlac.\n",
      "City not found...skipping.\n",
      "Processing Record 15  of Set 9 | benguela.\n",
      "Processing Record 16  of Set 9 | ponta do sol.\n",
      "Processing Record 17  of Set 9 | atambua.\n",
      "Processing Record 18  of Set 9 | tessalit.\n",
      "Processing Record 19  of Set 9 | smidovich.\n",
      "Processing Record 20  of Set 9 | baruun-urt.\n",
      "Processing Record 21  of Set 9 | vitim.\n",
      "Processing Record 22  of Set 9 | morondava.\n",
      "Processing Record 23  of Set 9 | provideniya.\n",
      "Processing Record 24  of Set 9 | yabelo.\n",
      "Processing Record 25  of Set 9 | bur gabo.\n",
      "City not found...skipping.\n",
      "Processing Record 26  of Set 9 | west bay.\n",
      "Processing Record 27  of Set 9 | bilibino.\n",
      "Processing Record 28  of Set 9 | chapulco.\n",
      "Processing Record 29  of Set 9 | erenhot.\n",
      "Processing Record 30  of Set 9 | dunedin.\n",
      "Processing Record 31  of Set 9 | kununurra.\n",
      "Processing Record 32  of Set 9 | kulhudhuffushi.\n",
      "Processing Record 33  of Set 9 | liverpool.\n",
      "Processing Record 34  of Set 9 | bubaque.\n",
      "Processing Record 35  of Set 9 | pacific grove.\n",
      "Processing Record 36  of Set 9 | saravan.\n",
      "Processing Record 37  of Set 9 | seoul.\n",
      "Processing Record 38  of Set 9 | okato.\n",
      "Processing Record 39  of Set 9 | richards bay.\n",
      "Processing Record 40  of Set 9 | altamira.\n",
      "Processing Record 41  of Set 9 | banda aceh.\n",
      "Processing Record 42  of Set 9 | tamala.\n",
      "Processing Record 43  of Set 9 | inuvik.\n",
      "Processing Record 44  of Set 9 | hasaki.\n",
      "Processing Record 45  of Set 9 | mabahin.\n",
      "Processing Record 46  of Set 9 | luanda.\n",
      "Processing Record 47  of Set 9 | tevaitoa.\n",
      "Processing Record 48  of Set 9 | catuday.\n",
      "Processing Record 49  of Set 9 | eldikan.\n",
      "City not found...skipping.\n",
      "Processing Record 0  of Set 10 | port elizabeth.\n",
      "Processing Record 1  of Set 10 | ketchikan.\n",
      "Processing Record 2  of Set 10 | axim.\n",
      "Processing Record 3  of Set 10 | kirillov.\n",
      "Processing Record 4  of Set 10 | lagoa.\n",
      "Processing Record 5  of Set 10 | horta.\n",
      "Processing Record 6  of Set 10 | dinsor.\n",
      "City not found...skipping.\n",
      "Processing Record 7  of Set 10 | mutsu.\n",
      "Processing Record 8  of Set 10 | medvezhyegorsk.\n",
      "Processing Record 9  of Set 10 | takoradi.\n",
      "Processing Record 10  of Set 10 | zadar.\n",
      "Processing Record 11  of Set 10 | ilam.\n",
      "Processing Record 12  of Set 10 | yarada.\n",
      "Processing Record 13  of Set 10 | quelimane.\n",
      "Processing Record 14  of Set 10 | guanare.\n",
      "Processing Record 15  of Set 10 | vanimo.\n",
      "Processing Record 16  of Set 10 | vestmannaeyjar.\n",
      "Processing Record 17  of Set 10 | nioro.\n",
      "Processing Record 18  of Set 10 | koumac.\n",
      "Processing Record 19  of Set 10 | chilca.\n",
      "Processing Record 20  of Set 10 | atar.\n",
      "Processing Record 21  of Set 10 | porangatu.\n",
      "Processing Record 22  of Set 10 | teruel.\n",
      "Processing Record 23  of Set 10 | isangel.\n",
      "Processing Record 24  of Set 10 | belaya gora.\n",
      "Processing Record 25  of Set 10 | mehamn.\n",
      "Processing Record 26  of Set 10 | te anau.\n",
      "Processing Record 27  of Set 10 | ambunti.\n",
      "Processing Record 28  of Set 10 | chekalin.\n",
      "Processing Record 29  of Set 10 | mata.\n",
      "Processing Record 30  of Set 10 | nabire.\n",
      "Processing Record 31  of Set 10 | umzimvubu.\n",
      "City not found...skipping.\n",
      "Processing Record 32  of Set 10 | christchurch.\n",
      "Processing Record 33  of Set 10 | soyo.\n",
      "Processing Record 34  of Set 10 | magistralnyy.\n",
      "Processing Record 35  of Set 10 | port augusta.\n",
      "Processing Record 36  of Set 10 | valparaiso.\n",
      "Processing Record 37  of Set 10 | mount isa.\n",
      "Processing Record 38  of Set 10 | mandalgarh.\n",
      "Processing Record 39  of Set 10 | san matias.\n",
      "Processing Record 40  of Set 10 | tarabuco.\n",
      "Processing Record 41  of Set 10 | garissa.\n",
      "Processing Record 42  of Set 10 | payson.\n",
      "Processing Record 43  of Set 10 | fatsa.\n",
      "Processing Record 44  of Set 10 | santo tomas.\n",
      "Processing Record 45  of Set 10 | macaboboni.\n",
      "City not found...skipping.\n",
      "Processing Record 46  of Set 10 | halalo.\n",
      "City not found...skipping.\n",
      "Processing Record 47  of Set 10 | watertown.\n",
      "Processing Record 48  of Set 10 | koulikoro.\n",
      "Processing Record 49  of Set 10 | bibiani.\n",
      "Processing Record 0  of Set 11 | san ignacio.\n",
      "Processing Record 1  of Set 11 | palana.\n",
      "Processing Record 2  of Set 11 | teguldet.\n",
      "Processing Record 3  of Set 11 | camocim.\n",
      "Processing Record 4  of Set 11 | turka.\n",
      "Processing Record 5  of Set 11 | renqiu.\n",
      "Processing Record 6  of Set 11 | qui nhon.\n",
      "City not found...skipping.\n",
      "Processing Record 7  of Set 11 | kahului.\n",
      "Processing Record 8  of Set 11 | jiuquan.\n",
      "Processing Record 9  of Set 11 | boysun.\n",
      "Processing Record 10  of Set 11 | sawakin.\n",
      "Processing Record 11  of Set 11 | rokytne.\n",
      "Processing Record 12  of Set 11 | bandarbeyla.\n",
      "Processing Record 13  of Set 11 | herstal.\n",
      "Processing Record 14  of Set 11 | shorapani.\n",
      "Processing Record 15  of Set 11 | husavik.\n",
      "Processing Record 16  of Set 11 | san lazaro.\n",
      "Processing Record 17  of Set 11 | saint-pierre.\n",
      "Processing Record 18  of Set 11 | selfoss.\n",
      "Processing Record 19  of Set 11 | korla.\n",
      "City not found...skipping.\n",
      "Processing Record 20  of Set 11 | nanuque.\n",
      "Processing Record 21  of Set 11 | port lincoln.\n",
      "Processing Record 22  of Set 11 | reyes.\n",
      "Processing Record 23  of Set 11 | shache.\n",
      "Processing Record 24  of Set 11 | bagan.\n",
      "Processing Record 25  of Set 11 | algarrobo.\n",
      "Processing Record 26  of Set 11 | rawannawi.\n",
      "City not found...skipping.\n",
      "Processing Record 27  of Set 11 | puri.\n",
      "Processing Record 28  of Set 11 | otane.\n",
      "Processing Record 29  of Set 11 | burewala.\n",
      "Processing Record 30  of Set 11 | witrivier.\n",
      "City not found...skipping.\n",
      "Processing Record 31  of Set 11 | sulangan.\n",
      "Processing Record 32  of Set 11 | zavodouspenskoye.\n",
      "Processing Record 33  of Set 11 | plettenberg bay.\n"
     ]
    },
    {
     "name": "stdout",
     "output_type": "stream",
     "text": [
      "Processing Record 34  of Set 11 | panorama.\n",
      "Processing Record 35  of Set 11 | bara.\n",
      "Processing Record 36  of Set 11 | laguna.\n",
      "Processing Record 37  of Set 11 | alamosa.\n",
      "Processing Record 38  of Set 11 | riviere-au-renard.\n",
      "Processing Record 39  of Set 11 | luganville.\n",
      "Processing Record 40  of Set 11 | los llanos de aridane.\n",
      "Processing Record 41  of Set 11 | sataua.\n",
      "City not found...skipping.\n",
      "Processing Record 42  of Set 11 | jiddah.\n",
      "City not found...skipping.\n",
      "Processing Record 43  of Set 11 | mitsamiouli.\n",
      "Processing Record 44  of Set 11 | praya.\n",
      "Processing Record 45  of Set 11 | yangambi.\n",
      "Processing Record 46  of Set 11 | srednekolymsk.\n",
      "Processing Record 47  of Set 11 | atyrau.\n",
      "Processing Record 48  of Set 11 | hervey bay.\n",
      "Processing Record 49  of Set 11 | fuerte olimpo.\n",
      "Processing Record 0  of Set 12 | charters towers.\n",
      "Processing Record 1  of Set 12 | whitehorse.\n",
      "Processing Record 2  of Set 12 | carauari.\n",
      "Processing Record 3  of Set 12 | santa quiteria do maranhao.\n",
      "Processing Record 4  of Set 12 | poum.\n",
      "Processing Record 5  of Set 12 | seydi.\n",
      "Processing Record 6  of Set 12 | kehychivka.\n",
      "Processing Record 7  of Set 12 | corinto.\n",
      "Processing Record 8  of Set 12 | verkhoyansk.\n",
      "Processing Record 9  of Set 12 | gallup.\n",
      "Processing Record 10  of Set 12 | ahuimanu.\n",
      "Processing Record 11  of Set 12 | waipawa.\n",
      "Processing Record 12  of Set 12 | halifax.\n",
      "Processing Record 13  of Set 12 | mehriz.\n",
      "Processing Record 14  of Set 12 | ambon.\n",
      "Processing Record 15  of Set 12 | luangwa.\n",
      "Processing Record 16  of Set 12 | constancia.\n",
      "Processing Record 17  of Set 12 | sakakah.\n",
      "City not found...skipping.\n",
      "Processing Record 18  of Set 12 | bargal.\n",
      "City not found...skipping.\n",
      "Processing Record 19  of Set 12 | wattegama.\n",
      "Processing Record 20  of Set 12 | warqla.\n",
      "City not found...skipping.\n",
      "Processing Record 21  of Set 12 | terrace bay.\n",
      "Processing Record 22  of Set 12 | havre-saint-pierre.\n",
      "Processing Record 23  of Set 12 | wajir.\n",
      "Processing Record 24  of Set 12 | da lat.\n",
      "Processing Record 25  of Set 12 | majene.\n",
      "Processing Record 26  of Set 12 | suzhou.\n",
      "Processing Record 27  of Set 12 | batavia.\n",
      "Processing Record 28  of Set 12 | mecca.\n",
      "Processing Record 29  of Set 12 | rio grande.\n",
      "Processing Record 30  of Set 12 | suao.\n",
      "City not found...skipping.\n",
      "Processing Record 31  of Set 12 | catamarca.\n",
      "City not found...skipping.\n",
      "Processing Record 32  of Set 12 | mortka.\n",
      "Processing Record 33  of Set 12 | aboisso.\n",
      "Processing Record 34  of Set 12 | huarmey.\n",
      "Processing Record 35  of Set 12 | umm durman.\n",
      "City not found...skipping.\n",
      "Processing Record 36  of Set 12 | mutsamudu.\n",
      "City not found...skipping.\n",
      "Processing Record 37  of Set 12 | villa rica.\n",
      "Processing Record 38  of Set 12 | hunza.\n",
      "City not found...skipping.\n",
      "Processing Record 39  of Set 12 | saint-georges.\n",
      "Processing Record 40  of Set 12 | puebloviejo.\n",
      "Processing Record 41  of Set 12 | kirakira.\n",
      "Processing Record 42  of Set 12 | imbituba.\n",
      "Processing Record 43  of Set 12 | dakar.\n",
      "Processing Record 44  of Set 12 | susanville.\n",
      "Processing Record 45  of Set 12 | kemijarvi.\n",
      "City not found...skipping.\n",
      "Processing Record 46  of Set 12 | zboriv.\n",
      "Processing Record 47  of Set 12 | coos bay.\n",
      "Processing Record 48  of Set 12 | buala.\n",
      "Processing Record 49  of Set 12 | saint anthony.\n",
      "Processing Record 0  of Set 13 | luebo.\n",
      "Processing Record 1  of Set 13 | sibu.\n",
      "Processing Record 2  of Set 13 | leua.\n",
      "Processing Record 3  of Set 13 | cap malheureux.\n",
      "Processing Record 4  of Set 13 | cedar city.\n",
      "Processing Record 5  of Set 13 | porto santo.\n",
      "City not found...skipping.\n",
      "Processing Record 6  of Set 13 | eidfjord.\n",
      "Processing Record 7  of Set 13 | ahipara.\n",
      "Processing Record 8  of Set 13 | dallas.\n",
      "-----------------------------\n",
      "Data Retrieval Complete\n",
      "-----------------------------\n"
     ]
    }
   ],
   "source": [
    "base_url = \"http://api.openweathermap.org/data/2.5/weather?\"\n",
    "# Counter to go through data\n",
    "record = 0\n",
    "sets = 1\n",
    "# Create DataFrame\n",
    "weather_df = pd.DataFrame({\"City\": cities})\n",
    "weather_df[\"Cloudiness\"] = \"\"\n",
    "weather_df[\"Country\"] = \"\"\n",
    "weather_df[\"Date\"] = \"\"\n",
    "weather_df[\"Humidity\"] = \"\"\n",
    "weather_df[\"Latitude\"] = \"\"\n",
    "weather_df[\"Longitude\"] = \"\"\n",
    "weather_df[\"Max Temp\"] = \"\"\n",
    "weather_df[\"Wind Speed\"] = \"\"\n",
    "# Interate through Cities and retrieve data\n",
    "print(\"Beginning Data Retrieval\")\n",
    "print(\"-----------------------------\")\n",
    "for index, row in weather_df.iterrows():\n",
    " city = row[\"City\"]\n",
    " query_url = base_url + \"appid=\" + weather_api_key + \"&q=\" + city\n",
    " weather_response = requests.get(query_url).json()\n",
    " try:\n",
    "     print(f\"Processing Record {record}  of Set {sets} | {city}.\")\n",
    "     #print (query_url)\n",
    "     weather_df.loc[index, \"Cloudiness\"] = weather_response[\"clouds\"][\"all\"]\n",
    "     weather_df.loc[index, \"Country\"] = weather_response[\"sys\"][\"country\"]\n",
    "     weather_df.loc[index, \"Date\"] = weather_response[\"dt\"]\n",
    "     weather_df.loc[index, \"Humidity\"] = weather_response[\"main\"][\"humidity\"]\n",
    "     weather_df.loc[index, \"Latitude\"] = weather_response[\"coord\"][\"lat\"]\n",
    "     weather_df.loc[index, \"Longitude\"] = weather_response[\"coord\"][\"lon\"]\n",
    "     weather_df.loc[index, \"Max Temp\"] = weather_response[\"main\"][\"temp_max\"]\n",
    "     weather_df.loc[index, \"Wind Speed\"] = weather_response[\"wind\"][\"speed\"]\n",
    " except:\n",
    "     print(\"City not found...skipping.\")\n",
    "     #print (query_url)\n",
    "     weather_df.loc[index, \"Cloudiness\"] = \"\"\n",
    "     weather_df.loc[index, \"Country\"] = \"\"\n",
    "     weather_df.loc[index, \"Date\"] = \"\"\n",
    "     weather_df.loc[index, \"Humidity\"] = \"\"\n",
    "     weather_df.loc[index, \"Latitude\"] = \"\"\n",
    "     weather_df.loc[index, \"Longitude\"] = \"\"\n",
    "     weather_df.loc[index, \"Max Temp\"] = \"\"\n",
    "     weather_df.loc[index, \"Wind Speed\"] = \"\"\n",
    " record = record + 1\n",
    " if record == 50:\n",
    "     record = 0\n",
    "     sets = sets + 1\n",
    "print(\"-----------------------------\")\n",
    "print(\"Data Retrieval Complete\")\n",
    "print(\"-----------------------------\")"
   ]
  },
  {
   "cell_type": "markdown",
   "metadata": {},
   "source": [
    "### Convert Raw Data to DataFrame\n",
    "* Export the city data into a .csv.\n",
    "* Display the DataFrame"
   ]
  },
  {
   "cell_type": "code",
   "execution_count": 5,
   "metadata": {},
   "outputs": [
    {
     "data": {
      "text/plain": [
       "City          609\n",
       "Cloudiness    609\n",
       "Country       609\n",
       "Date          609\n",
       "Humidity      609\n",
       "Latitude      609\n",
       "Longitude     609\n",
       "Max Temp      609\n",
       "Wind Speed    609\n",
       "dtype: int64"
      ]
     },
     "execution_count": 5,
     "metadata": {},
     "output_type": "execute_result"
    }
   ],
   "source": [
    "weather= pd.DataFrame(weather_df)\n",
    "weather.count()"
   ]
  },
  {
   "cell_type": "code",
   "execution_count": 6,
   "metadata": {},
   "outputs": [
    {
     "data": {
      "text/html": [
       "<div>\n",
       "<style scoped>\n",
       "    .dataframe tbody tr th:only-of-type {\n",
       "        vertical-align: middle;\n",
       "    }\n",
       "\n",
       "    .dataframe tbody tr th {\n",
       "        vertical-align: top;\n",
       "    }\n",
       "\n",
       "    .dataframe thead th {\n",
       "        text-align: right;\n",
       "    }\n",
       "</style>\n",
       "<table border=\"1\" class=\"dataframe\">\n",
       "  <thead>\n",
       "    <tr style=\"text-align: right;\">\n",
       "      <th></th>\n",
       "      <th>City</th>\n",
       "      <th>Cloudiness</th>\n",
       "      <th>Country</th>\n",
       "      <th>Date</th>\n",
       "      <th>Humidity</th>\n",
       "      <th>Latitude</th>\n",
       "      <th>Longitude</th>\n",
       "      <th>Max Temp</th>\n",
       "      <th>Wind Speed</th>\n",
       "    </tr>\n",
       "  </thead>\n",
       "  <tbody>\n",
       "    <tr>\n",
       "      <th>0</th>\n",
       "      <td>ostrovnoy</td>\n",
       "      <td>100</td>\n",
       "      <td>RU</td>\n",
       "      <td>1569882257</td>\n",
       "      <td>93</td>\n",
       "      <td>68.05</td>\n",
       "      <td>39.51</td>\n",
       "      <td>277.3</td>\n",
       "      <td>1.52</td>\n",
       "    </tr>\n",
       "    <tr>\n",
       "      <th>1</th>\n",
       "      <td>olafsvik</td>\n",
       "      <td></td>\n",
       "      <td></td>\n",
       "      <td></td>\n",
       "      <td></td>\n",
       "      <td></td>\n",
       "      <td></td>\n",
       "      <td></td>\n",
       "      <td></td>\n",
       "    </tr>\n",
       "    <tr>\n",
       "      <th>2</th>\n",
       "      <td>yellowknife</td>\n",
       "      <td>75</td>\n",
       "      <td>CA</td>\n",
       "      <td>1569882093</td>\n",
       "      <td>52</td>\n",
       "      <td>62.45</td>\n",
       "      <td>-114.38</td>\n",
       "      <td>281.15</td>\n",
       "      <td>8.7</td>\n",
       "    </tr>\n",
       "    <tr>\n",
       "      <th>3</th>\n",
       "      <td>new norfolk</td>\n",
       "      <td>75</td>\n",
       "      <td>AU</td>\n",
       "      <td>1569882260</td>\n",
       "      <td>65</td>\n",
       "      <td>-42.78</td>\n",
       "      <td>147.06</td>\n",
       "      <td>283.15</td>\n",
       "      <td>4.1</td>\n",
       "    </tr>\n",
       "    <tr>\n",
       "      <th>4</th>\n",
       "      <td>tumannyy</td>\n",
       "      <td></td>\n",
       "      <td></td>\n",
       "      <td></td>\n",
       "      <td></td>\n",
       "      <td></td>\n",
       "      <td></td>\n",
       "      <td></td>\n",
       "      <td></td>\n",
       "    </tr>\n",
       "  </tbody>\n",
       "</table>\n",
       "</div>"
      ],
      "text/plain": [
       "          City Cloudiness Country        Date Humidity Latitude Longitude  \\\n",
       "0    ostrovnoy        100      RU  1569882257       93    68.05     39.51   \n",
       "1     olafsvik                                                              \n",
       "2  yellowknife         75      CA  1569882093       52    62.45   -114.38   \n",
       "3  new norfolk         75      AU  1569882260       65   -42.78    147.06   \n",
       "4     tumannyy                                                              \n",
       "\n",
       "  Max Temp Wind Speed  \n",
       "0    277.3       1.52  \n",
       "1                      \n",
       "2   281.15        8.7  \n",
       "3   283.15        4.1  \n",
       "4                      "
      ]
     },
     "execution_count": 6,
     "metadata": {},
     "output_type": "execute_result"
    }
   ],
   "source": [
    "#Displaying Dataframe\n",
    "weather= pd.DataFrame(weather_df)\n",
    "weather.head()\n"
   ]
  },
  {
   "cell_type": "markdown",
   "metadata": {},
   "source": [
    "### Plotting the Data\n",
    "* Use proper labeling of the plots using plot titles (including date of analysis) and axes labels.\n",
    "* Save the plotted figures as .pngs."
   ]
  },
  {
   "cell_type": "code",
   "execution_count": 7,
   "metadata": {},
   "outputs": [
    {
     "name": "stdout",
     "output_type": "stream",
     "text": [
      "There are 540 cities included in the weather analyses.\n"
     ]
    },
    {
     "name": "stderr",
     "output_type": "stream",
     "text": [
      "C:\\Users\\Acer\\Anaconda3\\lib\\site-packages\\ipykernel_launcher.py:8: FutureWarning: convert_objects is deprecated.  To re-infer data dtypes for object columns, use DataFrame.infer_objects()\n",
      "For all other conversions use the data-type specific converters pd.to_datetime, pd.to_timedelta and pd.to_numeric.\n",
      "  \n"
     ]
    },
    {
     "data": {
      "text/plain": [
       "City           object\n",
       "Cloudiness      int64\n",
       "Country        object\n",
       "Date            int64\n",
       "Humidity        int64\n",
       "Latitude      float64\n",
       "Longitude     float64\n",
       "Max Temp      float64\n",
       "Wind Speed    float64\n",
       "dtype: object"
      ]
     },
     "execution_count": 7,
     "metadata": {},
     "output_type": "execute_result"
    }
   ],
   "source": [
    "weather.replace(\"\", np.nan, inplace = True)\n",
    "weather = weather_df.dropna()\n",
    "weather.head()\n",
    "print(f\"There are {len(weather)} cities included in the weather analyses.\")\n",
    "weather.to_csv(\"weather_output.csv\", index=False, encoding='utf-8')\n",
    "weather.dropna()\n",
    "weather.dtypes\n",
    "weather.convert_objects(convert_numeric=True).dtypes"
   ]
  },
  {
   "cell_type": "markdown",
   "metadata": {},
   "source": [
    "#### Latitude vs. Temperature Plot"
   ]
  },
  {
   "cell_type": "code",
   "execution_count": 8,
   "metadata": {
    "scrolled": true
   },
   "outputs": [
    {
     "data": {
      "image/png": "[encoded data removed]",
      "text/plain": [
       "<Figure size 432x288 with 1 Axes>"
      ]
     },
     "metadata": {
      "needs_background": "light"
     },
     "output_type": "display_data"
    }
   ],
   "source": [
    "\n",
    "plt.scatter(weather[\"Latitude\"], weather[\"Max Temp\"],edgecolors=\"black\", c=\"blue\")\n",
    "plt.title(\"City Latitude vs. Max Temperature (09/24/19)\")\n",
    "plt.xlabel(\"Latitude\")\n",
    "plt.ylabel(\"Max Temperature (F)\")\n",
    "plt.grid (linestyle=\"-\")\n",
    "plt.savefig(\"City Latitude vs. Max Temperature.png\")\n",
    "plt.show()\n"
   ]
  },
  {
   "cell_type": "markdown",
   "metadata": {},
   "source": [
    "#### Latitude vs. Humidity Plot"
   ]
  },
  {
   "cell_type": "code",
   "execution_count": 9,
   "metadata": {},
   "outputs": [
    {
     "data": {
      "image/png": "[encoded data removed]",
      "text/plain": [
       "<Figure size 432x288 with 1 Axes>"
      ]
     },
     "metadata": {
      "needs_background": "light"
     },
     "output_type": "display_data"
    }
   ],
   "source": [
    "plt.scatter(weather[\"Latitude\"], weather[\"Humidity\"],edgecolors=\"black\", c=\"blue\")\n",
    "plt.title(\"City Latitude vs. Humidity(09/24/2019)\")\n",
    "plt.xlabel(\"Latitude\")\n",
    "plt.ylabel(\"Humidity\")\n",
    "plt.grid (linestyle=\"-\")\n",
    "plt.savefig(\"City Latitude vs. Humidity.png\")\n",
    "plt.show()"
   ]
  },
  {
   "cell_type": "markdown",
   "metadata": {},
   "source": [
    "#### Latitude vs. Cloudiness Plot"
   ]
  },
  {
   "cell_type": "code",
   "execution_count": 10,
   "metadata": {},
   "outputs": [
    {
     "data": {
      "image/png": "[encoded data removed]",
      "text/plain": [
       "<Figure size 432x288 with 1 Axes>"
      ]
     },
     "metadata": {
      "needs_background": "light"
     },
     "output_type": "display_data"
    }
   ],
   "source": [
    "plt.scatter(weather[\"Latitude\"], weather[\"Cloudiness\"],edgecolors=\"black\", c=\"blue\")\n",
    "plt.title(\"City Latitude vs. Cloudiness (09/24/19)\")\n",
    "plt.xlabel(\"Latitude\")\n",
    "plt.ylabel(\"Cloudiness(%)\")\n",
    "plt.grid (linestyle=\"-\")\n",
    "plt.savefig(\"City Latitude vs. Cloudiness.png\")\n",
    "plt.show()"
   ]
  },
  {
   "cell_type": "markdown",
   "metadata": {},
   "source": [
    "#### Latitude vs. Wind Speed Plot"
   ]
  },
  {
   "cell_type": "code",
   "execution_count": 11,
   "metadata": {},
   "outputs": [
    {
     "data": {
      "image/png": "[encoded data removed]",
      "text/plain": [
       "<Figure size 432x288 with 1 Axes>"
      ]
     },
     "metadata": {
      "needs_background": "light"
     },
     "output_type": "display_data"
    }
   ],
   "source": [
    "plt.scatter(weather[\"Latitude\"], weather[\"Wind Speed\"],edgecolors=\"black\", c=\"blue\")\n",
    "plt.title(\"City Latitude vs. Wind Speed (09/24/19)\")\n",
    "plt.xlabel(\"Latitude\")\n",
    "plt.ylabel(\"Wind Speed (mph)\")\n",
    "plt.grid (linestyle=\"-\")\n",
    "plt.savefig(\"City Latitude vs. Wind Speed.png\")\n",
    "plt.show()\n"
   ]
  },
  {
   "cell_type": "markdown",
   "metadata": {},
   "source": [
    "## Linear Regression"
   ]
  },
  {
   "cell_type": "code",
   "execution_count": null,
   "metadata": {},
   "outputs": [],
   "source": [
    "# OPTIONAL: Create a function to create Linear Regression plots\n"
   ]
  },
  {
   "cell_type": "code",
   "execution_count": 12,
   "metadata": {},
   "outputs": [
    {
     "data": {
      "text/html": [
       "<div>\n",
       "<style scoped>\n",
       "    .dataframe tbody tr th:only-of-type {\n",
       "        vertical-align: middle;\n",
       "    }\n",
       "\n",
       "    .dataframe tbody tr th {\n",
       "        vertical-align: top;\n",
       "    }\n",
       "\n",
       "    .dataframe thead th {\n",
       "        text-align: right;\n",
       "    }\n",
       "</style>\n",
       "<table border=\"1\" class=\"dataframe\">\n",
       "  <thead>\n",
       "    <tr style=\"text-align: right;\">\n",
       "      <th></th>\n",
       "      <th>City</th>\n",
       "      <th>Cloudiness</th>\n",
       "      <th>Country</th>\n",
       "      <th>Date</th>\n",
       "      <th>Humidity</th>\n",
       "      <th>Latitude</th>\n",
       "      <th>Longitude</th>\n",
       "      <th>Max Temp</th>\n",
       "      <th>Wind Speed</th>\n",
       "    </tr>\n",
       "  </thead>\n",
       "  <tbody>\n",
       "    <tr>\n",
       "      <th>2</th>\n",
       "      <td>yellowknife</td>\n",
       "      <td>75</td>\n",
       "      <td>CA</td>\n",
       "      <td>1569882093</td>\n",
       "      <td>52</td>\n",
       "      <td>62.45</td>\n",
       "      <td>-114.38</td>\n",
       "      <td>281.15</td>\n",
       "      <td>8.7</td>\n",
       "    </tr>\n",
       "    <tr>\n",
       "      <th>7</th>\n",
       "      <td>punta arenas</td>\n",
       "      <td>75</td>\n",
       "      <td>CL</td>\n",
       "      <td>1569882260</td>\n",
       "      <td>52</td>\n",
       "      <td>-53.16</td>\n",
       "      <td>-70.91</td>\n",
       "      <td>278.15</td>\n",
       "      <td>8.2</td>\n",
       "    </tr>\n",
       "    <tr>\n",
       "      <th>8</th>\n",
       "      <td>rikitea</td>\n",
       "      <td>100</td>\n",
       "      <td>PF</td>\n",
       "      <td>1569882255</td>\n",
       "      <td>74</td>\n",
       "      <td>-23.12</td>\n",
       "      <td>-134.97</td>\n",
       "      <td>293.8</td>\n",
       "      <td>6.6</td>\n",
       "    </tr>\n",
       "    <tr>\n",
       "      <th>11</th>\n",
       "      <td>nanortalik</td>\n",
       "      <td>99</td>\n",
       "      <td>GL</td>\n",
       "      <td>1569882261</td>\n",
       "      <td>56</td>\n",
       "      <td>60.14</td>\n",
       "      <td>-45.24</td>\n",
       "      <td>280.1</td>\n",
       "      <td>4.56</td>\n",
       "    </tr>\n",
       "    <tr>\n",
       "      <th>13</th>\n",
       "      <td>stephenville</td>\n",
       "      <td>40</td>\n",
       "      <td>CA</td>\n",
       "      <td>1569882261</td>\n",
       "      <td>70</td>\n",
       "      <td>48.55</td>\n",
       "      <td>-58.59</td>\n",
       "      <td>281.15</td>\n",
       "      <td>5.7</td>\n",
       "    </tr>\n",
       "  </tbody>\n",
       "</table>\n",
       "</div>"
      ],
      "text/plain": [
       "            City Cloudiness Country        Date Humidity Latitude Longitude  \\\n",
       "2    yellowknife         75      CA  1569882093       52    62.45   -114.38   \n",
       "7   punta arenas         75      CL  1569882260       52   -53.16    -70.91   \n",
       "8        rikitea        100      PF  1569882255       74   -23.12   -134.97   \n",
       "11    nanortalik         99      GL  1569882261       56    60.14    -45.24   \n",
       "13  stephenville         40      CA  1569882261       70    48.55    -58.59   \n",
       "\n",
       "   Max Temp Wind Speed  \n",
       "2    281.15        8.7  \n",
       "7    278.15        8.2  \n",
       "8     293.8        6.6  \n",
       "11    280.1       4.56  \n",
       "13   281.15        5.7  "
      ]
     },
     "execution_count": 12,
     "metadata": {},
     "output_type": "execute_result"
    }
   ],
   "source": [
    "# Create Northern and Southern Hemisphere DataFrames\n",
    "North_df = weather_df[(weather_df['Latitude']>=0)]\n",
    "North_df.head()\n",
    "\n",
    "South_df = weather_df[(weather_df['Longitude']<=0)]\n",
    "South_df.head()"
   ]
  },
  {
   "cell_type": "code",
   "execution_count": 13,
   "metadata": {},
   "outputs": [],
   "source": [
    "North_df.dtypes\n",
    "x_values = North_df['Latitude'].astype('float64')\n",
    "y_values = North_df['Max Temp'].astype('float64')\n"
   ]
  },
  {
   "cell_type": "markdown",
   "metadata": {},
   "source": [
    "####  Northern Hemisphere - Max Temp vs. Latitude Linear Regression"
   ]
  },
  {
   "cell_type": "code",
   "execution_count": 43,
   "metadata": {},
   "outputs": [
    {
     "name": "stdout",
     "output_type": "stream",
     "text": [
      "R squard: -0.8163871479705114\n"
     ]
    },
    {
     "data": {
      "image/png": "[encoded data removed]",
      "text/plain": [
       "<Figure size 432x288 with 1 Axes>"
      ]
     },
     "metadata": {
      "needs_background": "light"
     },
     "output_type": "display_data"
    }
   ],
   "source": [
    "x_values = North_df['Latitude'].astype('float64')\n",
    "y_values = North_df['Max Temp'].astype('float64')\n",
    "\n",
    "(slope, intercept, rvalue, pvalue, stderr) = linregress(x_values, y_values)\n",
    "regress_values = x_values * slope + intercept\n",
    "line_eq = \"y = \" + str(round(slope,2)) + \"x + \" + str(round(intercept,2))\n",
    "\n",
    "plt.scatter(x_values,y_values)\n",
    "plt.plot(x_values,regress_values,\"r-\")\n",
    "#plt.annotate(line_eq,(6,10),fontsize=15,color=\"red\")\n",
    "plt.xlabel('Latitude')\n",
    "plt.ylabel('Maximum Temperature')\n",
    "plt.title(\"Latitude vs. Max Temperature of Northern Hemisphere\")\n",
    "\n",
    "print(f\"R squard: {rvalue}\")\n",
    "plt.savefig(\"Northern Hemisphere - Max Temp vs. Latitude Linear Regression.png\")\n",
    "plt.show()"
   ]
  },
  {
   "cell_type": "markdown",
   "metadata": {},
   "source": [
    "####  Southern Hemisphere - Max Temp vs. Latitude Linear Regression"
   ]
  },
  {
   "cell_type": "code",
   "execution_count": 36,
   "metadata": {},
   "outputs": [
    {
     "name": "stdout",
     "output_type": "stream",
     "text": [
      "R squard: -0.4000230372987323\n"
     ]
    },
    {
     "data": {
      "image/png": "[encoded data removed]",
      "text/plain": [
       "<Figure size 432x288 with 1 Axes>"
      ]
     },
     "metadata": {
      "needs_background": "light"
     },
     "output_type": "display_data"
    }
   ],
   "source": [
    "x_values = South_df['Latitude'].astype('float64')\n",
    "y_values = South_df['Max Temp'].astype('float64')\n",
    "\n",
    "(slope, intercept, rvalue, pvalue, stderr) = linregress(x_values, y_values)\n",
    "regress_values = x_values * slope + intercept\n",
    "line_eq = \"y = \" + str(round(slope,2)) + \"x + \" + str(round(intercept,2))\n",
    "\n",
    "plt.scatter(x_values,y_values)\n",
    "plt.plot(x_values,regress_values,\"r-\")\n",
    "#plt.annotate(line_eq,(6,10),fontsize=15,color=\"red\")\n",
    "plt.xlabel('Latitude')\n",
    "plt.ylabel('Maximum Temperature')\n",
    "plt.title(\"Latitude vs. Max Temperature of Northern Hemisphere\")\n",
    "\n",
    "\n",
    "print(f\"R squard: {rvalue}\")\n",
    "plt.savefig(\"Southern Hemisphere - Max Temp vs. Latitude Linear Regression.png\")\n",
    "plt.show()"
   ]
  },
  {
   "cell_type": "markdown",
   "metadata": {},
   "source": [
    "####  Northern Hemisphere - Humidity (%) vs. Latitude Linear Regression"
   ]
  },
  {
   "cell_type": "code",
   "execution_count": 37,
   "metadata": {},
   "outputs": [
    {
     "name": "stdout",
     "output_type": "stream",
     "text": [
      "R squard: 0.10793963253218333\n"
     ]
    },
    {
     "data": {
      "image/png": "[encoded data removed]",
      "text/plain": [
       "<Figure size 432x288 with 1 Axes>"
      ]
     },
     "metadata": {
      "needs_background": "light"
     },
     "output_type": "display_data"
    }
   ],
   "source": [
    "x_values = North_df['Latitude'].astype('float64')\n",
    "y_values = North_df['Humidity'].astype('float64')\n",
    "\n",
    "(slope, intercept, rvalue, pvalue, stderr) = linregress(x_values, y_values)\n",
    "regress_values = x_values * slope + intercept\n",
    "line_eq = \"y = \" + str(round(slope,2)) + \"x + \" + str(round(intercept,2))\n",
    "\n",
    "plt.scatter(x_values,y_values)\n",
    "plt.plot(x_values,regress_values,\"r-\")\n",
    "plt.annotate(line_eq,(6,10),fontsize=15,color=\"red\")\n",
    "plt.xlabel('Latitude')\n",
    "plt.ylabel('Humidity')\n",
    "plt.title(\"Latitude vs.Humidity of Northern Hemisphere\")\n",
    "\n",
    "print(f\"R squard: {rvalue}\")\n",
    "plt.savefig(\"Northern Hemisphere - Humidity (%) vs. Latitude Linear Regression.png\")\n",
    "plt.show()"
   ]
  },
  {
   "cell_type": "markdown",
   "metadata": {},
   "source": [
    "####  Southern Hemisphere - Humidity (%) vs. Latitude Linear Regression"
   ]
  },
  {
   "cell_type": "code",
   "execution_count": 38,
   "metadata": {},
   "outputs": [
    {
     "name": "stdout",
     "output_type": "stream",
     "text": [
      "R squard: 0.07739326433745229\n"
     ]
    },
    {
     "data": {
      "image/png": "[encoded data removed]",
      "text/plain": [
       "<Figure size 432x288 with 1 Axes>"
      ]
     },
     "metadata": {
      "needs_background": "light"
     },
     "output_type": "display_data"
    }
   ],
   "source": [
    "x_values = South_df['Latitude'].astype('float64')\n",
    "y_values = South_df['Humidity'].astype('float64')\n",
    "\n",
    "(slope, intercept, rvalue, pvalue, stderr) = linregress(x_values, y_values)\n",
    "regress_values = x_values * slope + intercept\n",
    "line_eq = \"y = \" + str(round(slope,2)) + \"x + \" + str(round(intercept,2))\n",
    "\n",
    "plt.scatter(x_values,y_values)\n",
    "plt.plot(x_values,regress_values,\"r-\")\n",
    "plt.annotate(line_eq,(6,10),fontsize=15,color=\"red\")\n",
    "plt.xlabel('Latitude')\n",
    "plt.ylabel('Humidity')\n",
    "plt.title(\"Latitude vs. Humidity of Northern Hemisphere\")\n",
    "# plt.ylim(90,-90)\n",
    "\n",
    "print(f\"R squard: {rvalue}\")\n",
    "plt.savefig(\"Southern Hemisphere - Humidity (%) vs. Latitude Linear Regression.png\")\n",
    "plt.show()"
   ]
  },
  {
   "cell_type": "markdown",
   "metadata": {},
   "source": [
    "####  Northern Hemisphere - Cloudiness (%) vs. Latitude Linear Regression"
   ]
  },
  {
   "cell_type": "code",
   "execution_count": 39,
   "metadata": {},
   "outputs": [
    {
     "name": "stdout",
     "output_type": "stream",
     "text": [
      "R squard: 0.1370785056561642\n"
     ]
    },
    {
     "data": {
      "image/png": "[encoded data removed]",
      "text/plain": [
       "<Figure size 432x288 with 1 Axes>"
      ]
     },
     "metadata": {
      "needs_background": "light"
     },
     "output_type": "display_data"
    }
   ],
   "source": [
    "x_values = North_df['Latitude'].astype('float64')\n",
    "y_values = North_df['Cloudiness'].astype('float64')\n",
    "\n",
    "(slope, intercept, rvalue, pvalue, stderr) = linregress(x_values, y_values)\n",
    "regress_values = x_values * slope + intercept\n",
    "line_eq = \"y = \" + str(round(slope,2)) + \"x + \" + str(round(intercept,2))\n",
    "\n",
    "plt.scatter(x_values,y_values)\n",
    "plt.plot(x_values,regress_values,\"r-\")\n",
    "plt.annotate(line_eq,(6,10),fontsize=15,color=\"red\")\n",
    "plt.xlabel('Latitude')\n",
    "plt.ylabel('Cloudiness')\n",
    "plt.title(\"Latitude vs. Cloudiness of Northern Hemisphere\")\n",
    "# plt.ylim(90,-90)\n",
    "\n",
    "print(f\"R squard: {rvalue}\")\n",
    "plt.savefig(\"Northern Hemisphere - Cloudiness (%) vs. Latitude Linear Regression.png\")\n",
    "plt.show()"
   ]
  },
  {
   "cell_type": "markdown",
   "metadata": {},
   "source": [
    "####  Southern Hemisphere - Cloudiness (%) vs. Latitude Linear Regression"
   ]
  },
  {
   "cell_type": "code",
   "execution_count": 40,
   "metadata": {},
   "outputs": [
    {
     "name": "stdout",
     "output_type": "stream",
     "text": [
      "R squard: 0.12379824521447151\n"
     ]
    },
    {
     "data": {
      "image/png": "[encoded data removed]",
      "text/plain": [
       "<Figure size 432x288 with 1 Axes>"
      ]
     },
     "metadata": {
      "needs_background": "light"
     },
     "output_type": "display_data"
    }
   ],
   "source": [
    "x_values = South_df['Latitude'].astype('float64')\n",
    "y_values = South_df['Cloudiness'].astype('float64')\n",
    "\n",
    "(slope, intercept, rvalue, pvalue, stderr) = linregress(x_values, y_values)\n",
    "regress_values = x_values * slope + intercept\n",
    "line_eq = \"y = \" + str(round(slope,2)) + \"x + \" + str(round(intercept,2))\n",
    "\n",
    "plt.scatter(x_values,y_values)\n",
    "plt.plot(x_values,regress_values,\"r-\")\n",
    "plt.annotate(line_eq,(6,10),fontsize=15,color=\"red\")\n",
    "plt.xlabel('Latitude')\n",
    "plt.ylabel('Cloudiness')\n",
    "plt.title(\"Latitude vs. Cloudiness of Northern Hemisphere\")\n",
    "# plt.ylim(90,-90)\n",
    "\n",
    "print(f\"R squard: {rvalue}\")\n",
    "plt.savefig(\"Southern Hemisphere - Cloudiness (%) vs. Latitude Linear Regression.png\")\n",
    "plt.show()"
   ]
  },
  {
   "cell_type": "markdown",
   "metadata": {},
   "source": [
    "####  Northern Hemisphere - Wind Speed (mph) vs. Latitude Linear Regression"
   ]
  },
  {
   "cell_type": "code",
   "execution_count": 41,
   "metadata": {},
   "outputs": [
    {
     "name": "stdout",
     "output_type": "stream",
     "text": [
      "R squard: 0.18582843145159778\n"
     ]
    },
    {
     "data": {
      "image/png": "[encoded data removed]",
      "text/plain": [
       "<Figure size 432x288 with 1 Axes>"
      ]
     },
     "metadata": {
      "needs_background": "light"
     },
     "output_type": "display_data"
    }
   ],
   "source": [
    "x_values = North_df['Latitude'].astype('float64')\n",
    "y_values = North_df['Wind Speed'].astype('float64')\n",
    "\n",
    "(slope, intercept, rvalue, pvalue, stderr) = linregress(x_values, y_values)\n",
    "regress_values = x_values * slope + intercept\n",
    "line_eq = \"y = \" + str(round(slope,2)) + \"x + \" + str(round(intercept,2))\n",
    "\n",
    "plt.scatter(x_values,y_values)\n",
    "plt.plot(x_values,regress_values,\"r-\")\n",
    "plt.annotate(line_eq,(6,10),fontsize=15,color=\"red\")\n",
    "plt.xlabel('Latitude')\n",
    "plt.ylabel('Wind speed')\n",
    "plt.title(\"Latitude vs. Wind Speed of Northern Hemisphere\")\n",
    "# plt.ylim(90,-90)\n",
    "\n",
    "print(f\"R squard: {rvalue}\")\n",
    "plt.savefig(\"Northern Hemisphere - Wind Speed (mph) vs. Latitude Linear Regression.png\")\n",
    "plt.show()"
   ]
  },
  {
   "cell_type": "markdown",
   "metadata": {},
   "source": [
    "####  Southern Hemisphere - Wind Speed (mph) vs. Latitude Linear Regression"
   ]
  },
  {
   "cell_type": "code",
   "execution_count": 42,
   "metadata": {},
   "outputs": [
    {
     "name": "stdout",
     "output_type": "stream",
     "text": [
      "R squard: -0.1158348571902219\n"
     ]
    },
    {
     "data": {
      "image/png": "[encoded data removed]",
      "text/plain": [
       "<Figure size 432x288 with 1 Axes>"
      ]
     },
     "metadata": {
      "needs_background": "light"
     },
     "output_type": "display_data"
    }
   ],
   "source": [
    "x_values = South_df['Latitude'].astype('float64')\n",
    "y_values = South_df['Wind Speed'].astype('float64')\n",
    "\n",
    "(slope, intercept, rvalue, pvalue, stderr) = linregress(x_values, y_values)\n",
    "regress_values = x_values * slope + intercept\n",
    "line_eq = \"y = \" + str(round(slope,2)) + \"x + \" + str(round(intercept,2))\n",
    "\n",
    "plt.scatter(x_values,y_values)\n",
    "plt.plot(x_values,regress_values,\"r-\")\n",
    "plt.annotate(line_eq,(6,10),fontsize=15,color=\"red\")\n",
    "plt.xlabel('Latitude')\n",
    "plt.ylabel('Wind speed')\n",
    "plt.title(\"Latitude vs. Wind Speed of Northern Hemisphere\")\n",
    "# plt.ylim(90,-90)\n",
    "\n",
    "print(f\"R squard: {rvalue}\")\n",
    "plt.savefig(\"Southern Hemisphere - Wind Speed (mph) vs. Latitude Linear Regression.png\")\n",
    "plt.show()"
   ]
  },
  {
   "cell_type": "code",
   "execution_count": null,
   "metadata": {},
   "outputs": [],
   "source": []
  }
 ],
 "metadata": {
  "anaconda-cloud": {},
  "kernel_info": {
   "name": "python3"
  },
  "kernelspec": {
   "display_name": "Python 3",
   "language": "python",
   "name": "python3"
  },
  "language_info": {
   "codemirror_mode": {
    "name": "ipython",
    "version": 3
   },
   "file_extension": ".py",
   "mimetype": "text/x-python",
   "name": "python",
   "nbconvert_exporter": "python",
   "pygments_lexer": "ipython3",
   "version": "3.7.3"
  },
  "latex_envs": {
   "LaTeX_envs_menu_present": true,
   "autoclose": false,
   "autocomplete": true,
   "bibliofile": "biblio.bib",
   "cite_by": "apalike",
   "current_citInitial": 1,
   "eqLabelWithNumbers": true,
   "eqNumInitial": 1,
   "hotkeys": {
    "equation": "Ctrl-E",
    "itemize": "Ctrl-I"
   },
   "labels_anchors": false,
   "latex_user_defs": false,
   "report_style_numbering": false,
   "user_envs_cfg": false
  },
  "nteract": {
   "version": "0.12.3"
  }
 },
 "nbformat": 4,
 "nbformat_minor": 2
}
